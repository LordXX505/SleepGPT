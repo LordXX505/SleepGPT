{
 "cells": [
  {
   "cell_type": "code",
   "execution_count": 2,
   "metadata": {
    "collapsed": true,
    "ExecuteTime": {
     "end_time": "2023-08-01T10:11:03.077411Z",
     "start_time": "2023-08-01T10:11:03.072778Z"
    }
   },
   "outputs": [],
   "source": [
    "import numpy as np\n",
    "import matplotlib.pyplot as plt\n",
    "import pandas as pd\n",
    "import pyarrow as pa\n",
    "import wfdb\n",
    "from tqdm import tqdm\n",
    "import os, glob, functools\n",
    "from logger import logger as logger"
   ]
  },
  {
   "cell_type": "code",
   "execution_count": 3,
   "outputs": [],
   "source": [
    "root_path = \"/nd_disk1/weixuan/PhysioNet/training\""
   ],
   "metadata": {
    "collapsed": false,
    "ExecuteTime": {
     "end_time": "2023-08-01T10:11:03.356383Z",
     "start_time": "2023-08-01T10:11:03.351234Z"
    }
   }
  },
  {
   "cell_type": "code",
   "execution_count": 4,
   "outputs": [],
   "source": [
    "paths = pd.read_table(os.path.join(root_path, \"RECORDS\"), names=['subname'])"
   ],
   "metadata": {
    "collapsed": false,
    "ExecuteTime": {
     "end_time": "2023-08-01T10:11:05.630164Z",
     "start_time": "2023-08-01T10:11:05.564034Z"
    }
   }
  },
  {
   "cell_type": "code",
   "execution_count": 5,
   "outputs": [],
   "source": [
    "all_channel = ['AF3', 'AF4', 'C1', 'C2', 'C3', 'C4', 'C5', 'C6', 'CP1', 'CP2', 'CP3', 'CP4','CP5'\n",
    "     ,'CP6' ,'Cz' ,'ECG' ,'EMG1' ,'EMG2' ,'EOG1' ,'EOG2' ,'F1' ,'F2' ,'F3' ,'F4' ,'F5'\n",
    "     ,'F6' ,'F7' ,'F8' ,'FC1' ,'FC2' ,'FC3' ,'FC4' ,'FC5' ,'FC6' ,'Fp1' ,'Fp2' ,'Fpz' ,'Fz'\n",
    "     ,'O1' ,'O2' ,'Oz' ,'P1' ,'P2' ,'P3' ,'P4' ,'P5' ,'P6' ,'P7' ,'P8' ,'PO3' ,'PO4' ,'POz'\n",
    "     ,'Pz' ,'T7' ,'T8' ,'TP7' ,'TP8']\n",
    "Sleep_stage =['W', 'N1', 'N2', 'N3', 'R']\n",
    "for i in [0]:\n",
    "    subject_path = paths.iloc[i]['subname']\n",
    "    header = wfdb.rdheader(os.path.join(root_path, subject_path, subject_path[:-1]))\n",
    "    record = wfdb.rdrecord(os.path.join(root_path, subject_path, subject_path[:-1]))\n",
    "    anno = wfdb.rdann(os.path.join(root_path, subject_path, subject_path[:-1]), extension='arousal')"
   ],
   "metadata": {
    "collapsed": false,
    "ExecuteTime": {
     "end_time": "2023-08-01T10:11:11.205152Z",
     "start_time": "2023-08-01T10:11:09.503215Z"
    }
   }
  },
  {
   "cell_type": "code",
   "execution_count": 7,
   "outputs": [],
   "source": [
    "df = record.to_dataframe().rename(\n",
    "                columns={'F3-M2': \"F3\", 'F4-M1': 'F4', 'C3-M2': 'C3', 'C4-M1': 'C4', 'O1-M2': 'O1', 'O2-M1': 'O2',\n",
    "                         'E1-M2': 'EOG1',\n",
    "                         'Chin1-Chin2': 'EMG1', 'ABD': 'ABD', 'CHEST': 'CHEST', 'AIRFLOW': 'AIRFLOW', 'SaO2': 'SaO2',\n",
    "                         'ECG': 'ECG'})"
   ],
   "metadata": {
    "collapsed": false,
    "ExecuteTime": {
     "end_time": "2023-08-01T10:11:38.461098Z",
     "start_time": "2023-08-01T10:11:37.421173Z"
    }
   }
  },
  {
   "cell_type": "code",
   "execution_count": 8,
   "outputs": [
    {
     "data": {
      "text/plain": "                          F3   F4    C3   C4    O1    O2  EOG1  EMG1   ABD  \\\n0 days 00:00:00         -9.0  5.0  -5.0  9.0   5.0  12.0 -21.0  16.0 -41.0   \n0 days 00:00:00.005000 -36.0  2.0 -33.0  5.0 -27.0   3.0 -50.0  25.0 -36.0   \n0 days 00:00:00.010000 -23.0  2.0 -23.0  1.0 -21.0  -6.0 -40.0  -4.0 -27.0   \n0 days 00:00:00.015000 -11.0  1.0 -12.0 -4.0 -11.0 -11.0 -30.0 -29.0 -17.0   \n0 days 00:00:00.020000 -23.0  5.0 -22.0 -1.0 -19.0  -8.0 -41.0  13.0  -8.0   \n...                      ...  ...   ...  ...   ...   ...   ...   ...   ...   \n0 days 07:08:54.975000   0.0  0.0   0.0  0.0   0.0   0.0   0.0   0.0   0.0   \n0 days 07:08:54.980000   0.0  0.0   0.0  0.0   0.0   0.0   0.0   0.0   0.0   \n0 days 07:08:54.985000   0.0  0.0   0.0  0.0   0.0   0.0   0.0   0.0   0.0   \n0 days 07:08:54.990000   0.0  0.0   0.0  0.0   0.0   0.0   0.0   0.0   0.0   \n0 days 07:08:54.995000   0.0  0.0   0.0  0.0   0.0   0.0   0.0   0.0   0.0   \n\n                        CHEST  AIRFLOW       SaO2    ECG  \n0 days 00:00:00          -2.0     39.0  96.534676 -0.053  \n0 days 00:00:00.005000    0.0     93.0  96.534676 -0.103  \n0 days 00:00:00.010000    3.0     62.0  96.534676  0.006  \n0 days 00:00:00.015000    6.0     41.0  96.534676  0.058  \n0 days 00:00:00.020000    9.0     72.0  96.534676 -0.064  \n...                       ...      ...        ...    ...  \n0 days 07:08:54.975000 -107.0      6.0   0.495918 -0.755  \n0 days 07:08:54.980000 -107.0      0.0   0.495918  0.405  \n0 days 07:08:54.985000 -107.0     -6.0   0.495918  0.543  \n0 days 07:08:54.990000 -106.0      3.0   0.495918 -0.728  \n0 days 07:08:54.995000 -106.0      4.0   0.495918 -0.072  \n\n[5147000 rows x 13 columns]",
      "text/html": "<div>\n<style scoped>\n    .dataframe tbody tr th:only-of-type {\n        vertical-align: middle;\n    }\n\n    .dataframe tbody tr th {\n        vertical-align: top;\n    }\n\n    .dataframe thead th {\n        text-align: right;\n    }\n</style>\n<table border=\"1\" class=\"dataframe\">\n  <thead>\n    <tr style=\"text-align: right;\">\n      <th></th>\n      <th>F3</th>\n      <th>F4</th>\n      <th>C3</th>\n      <th>C4</th>\n      <th>O1</th>\n      <th>O2</th>\n      <th>EOG1</th>\n      <th>EMG1</th>\n      <th>ABD</th>\n      <th>CHEST</th>\n      <th>AIRFLOW</th>\n      <th>SaO2</th>\n      <th>ECG</th>\n    </tr>\n  </thead>\n  <tbody>\n    <tr>\n      <th>0 days 00:00:00</th>\n      <td>-9.0</td>\n      <td>5.0</td>\n      <td>-5.0</td>\n      <td>9.0</td>\n      <td>5.0</td>\n      <td>12.0</td>\n      <td>-21.0</td>\n      <td>16.0</td>\n      <td>-41.0</td>\n      <td>-2.0</td>\n      <td>39.0</td>\n      <td>96.534676</td>\n      <td>-0.053</td>\n    </tr>\n    <tr>\n      <th>0 days 00:00:00.005000</th>\n      <td>-36.0</td>\n      <td>2.0</td>\n      <td>-33.0</td>\n      <td>5.0</td>\n      <td>-27.0</td>\n      <td>3.0</td>\n      <td>-50.0</td>\n      <td>25.0</td>\n      <td>-36.0</td>\n      <td>0.0</td>\n      <td>93.0</td>\n      <td>96.534676</td>\n      <td>-0.103</td>\n    </tr>\n    <tr>\n      <th>0 days 00:00:00.010000</th>\n      <td>-23.0</td>\n      <td>2.0</td>\n      <td>-23.0</td>\n      <td>1.0</td>\n      <td>-21.0</td>\n      <td>-6.0</td>\n      <td>-40.0</td>\n      <td>-4.0</td>\n      <td>-27.0</td>\n      <td>3.0</td>\n      <td>62.0</td>\n      <td>96.534676</td>\n      <td>0.006</td>\n    </tr>\n    <tr>\n      <th>0 days 00:00:00.015000</th>\n      <td>-11.0</td>\n      <td>1.0</td>\n      <td>-12.0</td>\n      <td>-4.0</td>\n      <td>-11.0</td>\n      <td>-11.0</td>\n      <td>-30.0</td>\n      <td>-29.0</td>\n      <td>-17.0</td>\n      <td>6.0</td>\n      <td>41.0</td>\n      <td>96.534676</td>\n      <td>0.058</td>\n    </tr>\n    <tr>\n      <th>0 days 00:00:00.020000</th>\n      <td>-23.0</td>\n      <td>5.0</td>\n      <td>-22.0</td>\n      <td>-1.0</td>\n      <td>-19.0</td>\n      <td>-8.0</td>\n      <td>-41.0</td>\n      <td>13.0</td>\n      <td>-8.0</td>\n      <td>9.0</td>\n      <td>72.0</td>\n      <td>96.534676</td>\n      <td>-0.064</td>\n    </tr>\n    <tr>\n      <th>...</th>\n      <td>...</td>\n      <td>...</td>\n      <td>...</td>\n      <td>...</td>\n      <td>...</td>\n      <td>...</td>\n      <td>...</td>\n      <td>...</td>\n      <td>...</td>\n      <td>...</td>\n      <td>...</td>\n      <td>...</td>\n      <td>...</td>\n    </tr>\n    <tr>\n      <th>0 days 07:08:54.975000</th>\n      <td>0.0</td>\n      <td>0.0</td>\n      <td>0.0</td>\n      <td>0.0</td>\n      <td>0.0</td>\n      <td>0.0</td>\n      <td>0.0</td>\n      <td>0.0</td>\n      <td>0.0</td>\n      <td>-107.0</td>\n      <td>6.0</td>\n      <td>0.495918</td>\n      <td>-0.755</td>\n    </tr>\n    <tr>\n      <th>0 days 07:08:54.980000</th>\n      <td>0.0</td>\n      <td>0.0</td>\n      <td>0.0</td>\n      <td>0.0</td>\n      <td>0.0</td>\n      <td>0.0</td>\n      <td>0.0</td>\n      <td>0.0</td>\n      <td>0.0</td>\n      <td>-107.0</td>\n      <td>0.0</td>\n      <td>0.495918</td>\n      <td>0.405</td>\n    </tr>\n    <tr>\n      <th>0 days 07:08:54.985000</th>\n      <td>0.0</td>\n      <td>0.0</td>\n      <td>0.0</td>\n      <td>0.0</td>\n      <td>0.0</td>\n      <td>0.0</td>\n      <td>0.0</td>\n      <td>0.0</td>\n      <td>0.0</td>\n      <td>-107.0</td>\n      <td>-6.0</td>\n      <td>0.495918</td>\n      <td>0.543</td>\n    </tr>\n    <tr>\n      <th>0 days 07:08:54.990000</th>\n      <td>0.0</td>\n      <td>0.0</td>\n      <td>0.0</td>\n      <td>0.0</td>\n      <td>0.0</td>\n      <td>0.0</td>\n      <td>0.0</td>\n      <td>0.0</td>\n      <td>0.0</td>\n      <td>-106.0</td>\n      <td>3.0</td>\n      <td>0.495918</td>\n      <td>-0.728</td>\n    </tr>\n    <tr>\n      <th>0 days 07:08:54.995000</th>\n      <td>0.0</td>\n      <td>0.0</td>\n      <td>0.0</td>\n      <td>0.0</td>\n      <td>0.0</td>\n      <td>0.0</td>\n      <td>0.0</td>\n      <td>0.0</td>\n      <td>0.0</td>\n      <td>-106.0</td>\n      <td>4.0</td>\n      <td>0.495918</td>\n      <td>-0.072</td>\n    </tr>\n  </tbody>\n</table>\n<p>5147000 rows × 13 columns</p>\n</div>"
     },
     "execution_count": 8,
     "metadata": {},
     "output_type": "execute_result"
    }
   ],
   "source": [
    "df"
   ],
   "metadata": {
    "collapsed": false,
    "ExecuteTime": {
     "end_time": "2023-08-01T10:11:44.417846Z",
     "start_time": "2023-08-01T10:11:44.386473Z"
    }
   }
  },
  {
   "cell_type": "code",
   "execution_count": 25,
   "outputs": [
    {
     "name": "stderr",
     "output_type": "stream",
     "text": [
      "  0%|          | 0/1 [00:00<?, ?it/s]"
     ]
    },
    {
     "name": "stdout",
     "output_type": "stream",
     "text": [
      "tr03-0904/\n",
      "5729000\n"
     ]
    },
    {
     "name": "stderr",
     "output_type": "stream",
     "text": [
      "100%|██████████| 1/1 [00:04<00:00,  4.89s/it]"
     ]
    },
    {
     "name": "stdout",
     "output_type": "stream",
     "text": [
      "(9, 954, 3000)\n",
      "['C3' 'C4' 'ECG' 'EMG1' 'EOG1' 'F3' 'F4' 'O1' 'O2']\n"
     ]
    },
    {
     "name": "stderr",
     "output_type": "stream",
     "text": [
      "\n"
     ]
    }
   ],
   "source": [
    " for i in tqdm([92]):\n",
    "            subject_path = paths.iloc[i]['subname']\n",
    "            print(subject_path)\n",
    "            header = wfdb.rdheader(os.path.join(root_path, subject_path, subject_path[:-1]))\n",
    "            record = wfdb.rdrecord(os.path.join(root_path, subject_path, subject_path[:-1]))\n",
    "            anno = wfdb.rdann(os.path.join(root_path, subject_path, subject_path[:-1]), extension='arousal')\n",
    "            assert record.fs == 200\n",
    "            df = record.to_dataframe().rename(\n",
    "                columns={'F3-M2': \"F3\", 'F4-M1': 'F4', 'C3-M2': 'C3', 'C4-M1': 'C4', 'O1-M2': 'O1', 'O2-M1': 'O2',\n",
    "                         'E1-M2': 'EOG1',\n",
    "                         'Chin1-Chin2': 'EMG1', 'ABD': 'ABD', 'CHEST': 'CHEST', 'AIRFLOW': 'AIRFLOW', 'SaO2': 'SaO2',\n",
    "                         'ECG': 'ECG'})  # Resample to 100hz using mean.\n",
    "            print(len(df.index))\n",
    "\n",
    "            df = df.resample('0.01S').mean()\n",
    "            # Get the epochs and channels(ascending order)\n",
    "            epochs = []\n",
    "            channels = []\n",
    "            for col in df.columns:\n",
    "                if col in all_channel:\n",
    "                    tmp = []\n",
    "                    val = df[col].values\n",
    "                    for i in np.arange(0, len(df.index)-3000, 3000):\n",
    "                        tmp.append(val[i:i+3000])\n",
    "                    channels.append(col)\n",
    "                    epochs.append(tmp)\n",
    "            idx = np.argsort(channels)  # sort channels\n",
    "            epochs = np.stack(epochs, axis=0)\n",
    "            print(epochs.shape)\n",
    "            epochs = epochs[idx]\n",
    "            channels = np.sort(channels)\n",
    "            epochs = epochs.transpose((1, 0, 2))\n",
    "            print(channels)"
   ],
   "metadata": {
    "collapsed": false,
    "ExecuteTime": {
     "end_time": "2023-06-29T07:07:40.148907Z",
     "start_time": "2023-06-29T07:07:35.281426Z"
    }
   }
  },
  {
   "cell_type": "code",
   "execution_count": 16,
   "outputs": [],
   "source": [
    "Sleep_stage = ['W', 'N1', 'N2', 'N3', 'R']  # AASM\n",
    "stages = []\n",
    "Stage_map = {'W': 0, 'N1': 1, 'N2': 2, 'N3': 3, 'R': 4}\n",
    "label = 'UNKnow'\n",
    "cnt = 0\n",
    "onsets = []\n",
    "labels = []\n",
    "for i in zip(anno.sample, anno.aux_note):\n",
    "    if i[1] in Sleep_stage:\n",
    "        onsets.append(i[0] // 2)\n",
    "        labels.append(i[1])\n",
    "        assert (i[0] // 2) % 3000 == 0\n",
    "# 0 is Wake.\n",
    "# 1 is stage\n",
    "# N1.\n",
    "# 2 is stage\n",
    "# N2.\n",
    "# 3 is stage\n",
    "# N3.\n",
    "# 4 is Rem.\n",
    "idx = -1\n",
    "for i in np.arange(0, len(df.index) - 3000, 3000):\n",
    "    if cnt < len(onsets) and i == onsets[cnt]:\n",
    "        label = labels[cnt]\n",
    "        cnt += 1\n",
    "    if label != 'UNKnow':\n",
    "        if idx == -1:\n",
    "            idx = i//3000\n",
    "        stages.append(Stage_map[label])"
   ],
   "metadata": {
    "collapsed": false
   }
  },
  {
   "cell_type": "code",
   "execution_count": 17,
   "outputs": [
    {
     "data": {
      "text/plain": "(940,)"
     },
     "execution_count": 17,
     "metadata": {},
     "output_type": "execute_result"
    }
   ],
   "source": [
    "stages = np.array(stages)\n",
    "stages.shape"
   ],
   "metadata": {
    "collapsed": false,
    "ExecuteTime": {
     "end_time": "2023-06-28T02:27:36.069998Z",
     "start_time": "2023-06-28T02:27:36.069847Z"
    }
   }
  },
  {
   "cell_type": "code",
   "execution_count": 18,
   "outputs": [
    {
     "name": "stdout",
     "output_type": "stream",
     "text": [
      "(84000, 'W')\n",
      "(138000, 'N1')\n",
      "(144000, 'W')\n",
      "(150000, 'N1')\n",
      "(162000, 'N2')\n",
      "(270000, 'W')\n",
      "(276000, 'N1')\n",
      "(288000, 'N2')\n",
      "(348000, 'N3')\n",
      "(354000, 'N2')\n",
      "(360000, 'N3')\n",
      "(528000, 'W')\n",
      "(534000, 'N1')\n",
      "(540000, 'N2')\n",
      "(684000, 'N3')\n",
      "(690000, 'N2')\n",
      "(696000, 'N3')\n",
      "(774000, 'N2')\n",
      "(786000, 'N3')\n",
      "(792000, 'N2')\n",
      "(844988, '(arousal_rera')\n",
      "(847188, 'arousal_rera)')\n",
      "(876000, 'N1')\n",
      "(877456, '(arousal_rera')\n",
      "(882196, 'arousal_rera)')\n",
      "(894000, 'N2')\n",
      "(1026000, 'N3')\n",
      "(1194000, 'N2')\n",
      "(1200000, 'N1')\n",
      "(1206000, 'N2')\n",
      "(1224000, 'W')\n",
      "(1236000, 'N1')\n",
      "(1242000, 'N2')\n",
      "(1357406, '(arousal_rera')\n",
      "(1360326, 'arousal_rera)')\n",
      "(1366024, '(arousal_rera')\n",
      "(1369624, 'arousal_rera)')\n",
      "(1378346, '(arousal_rera')\n",
      "(1380766, 'arousal_rera)')\n",
      "(1410988, '(arousal_rera')\n",
      "(1413508, 'arousal_rera)')\n",
      "(1422000, 'N1')\n",
      "(1428000, 'N2')\n",
      "(1494000, 'W')\n",
      "(1500000, 'N1')\n",
      "(1506000, 'N2')\n",
      "(1547332, '(arousal_rera')\n",
      "(1549992, 'arousal_rera)')\n",
      "(1698000, 'R')\n",
      "(1698840, '(resp_hypopnea')\n",
      "(1702460, 'resp_hypopnea)')\n",
      "(1798716, '(arousal_rera')\n",
      "(1802856, 'arousal_rera)')\n",
      "(1829678, '(arousal_rera')\n",
      "(1832957, 'arousal_rera)')\n",
      "(1908864, '(arousal_rera')\n",
      "(1911684, 'arousal_rera)')\n",
      "(1932000, 'N1')\n",
      "(1944000, 'N2')\n",
      "(1976198, '(resp_hypopnea')\n",
      "(1982698, 'resp_hypopnea)')\n",
      "(2007110, '(arousal_rera')\n",
      "(2010250, 'arousal_rera)')\n",
      "(2112444, '(arousal_rera')\n",
      "(2115384, 'arousal_rera)')\n",
      "(2196000, 'N3')\n",
      "(2408914, '(arousal_rera')\n",
      "(2412174, 'arousal_rera)')\n",
      "(2418000, 'N2')\n",
      "(2420714, '(arousal_rera')\n",
      "(2424214, 'arousal_rera)')\n",
      "(2472000, 'N3')\n",
      "(2484000, 'N2')\n",
      "(2496000, 'N3')\n",
      "(2544000, 'N2')\n",
      "(2550000, 'N3')\n",
      "(2553728, '(resp_hypopnea')\n",
      "(2556000, 'N2')\n",
      "(2559648, 'resp_hypopnea)')\n",
      "(2586000, 'N3')\n",
      "(2610000, 'N2')\n",
      "(2616000, 'N3')\n",
      "(2634000, 'N2')\n",
      "(2641358, '(arousal_rera')\n",
      "(2643958, 'arousal_rera)')\n",
      "(2644988, '(arousal_rera')\n",
      "(2648808, 'arousal_rera)')\n",
      "(2706000, 'N3')\n",
      "(2712000, 'N2')\n",
      "(2724000, 'N3')\n",
      "(2730000, 'N2')\n",
      "(2742000, 'N3')\n",
      "(2748000, 'N2')\n",
      "(2760000, 'N3')\n",
      "(2814000, 'N1')\n",
      "(2820000, 'N2')\n",
      "(2839530, '(arousal_rera')\n",
      "(2842470, 'arousal_rera)')\n",
      "(2845184, '(resp_obstructiveapnea')\n",
      "(2847644, 'resp_obstructiveapnea)')\n",
      "(2850296, '(arousal_rera')\n",
      "(2853156, 'arousal_rera)')\n",
      "(2928000, 'N3')\n",
      "(2952000, 'N2')\n",
      "(2958000, 'N3')\n",
      "(3061876, '(arousal_rera')\n",
      "(3064916, 'arousal_rera)')\n",
      "(3066000, 'N2')\n",
      "(3066320, '(arousal_rera')\n",
      "(3069080, 'arousal_rera)')\n",
      "(3072000, 'W')\n",
      "(3077530, '(arousal_rera')\n",
      "(3078000, 'N1')\n",
      "(3081009, 'arousal_rera)')\n",
      "(3082520, '(arousal_rera')\n",
      "(3084000, 'N2')\n",
      "(3085700, 'arousal_rera)')\n",
      "(3089558, '(arousal_rera')\n",
      "(3091958, 'arousal_rera)')\n",
      "(3102690, '(arousal_rera')\n",
      "(3105650, 'arousal_rera)')\n",
      "(3240000, 'N1')\n",
      "(3241432, '(arousal_rera')\n",
      "(3244512, 'arousal_rera)')\n",
      "(3246000, 'N2')\n",
      "(3366000, 'N3')\n",
      "(3366272, '(arousal_rera')\n",
      "(3369712, 'arousal_rera)')\n",
      "(3372000, 'N2')\n",
      "(3377456, '(arousal_rera')\n",
      "(3380696, 'arousal_rera)')\n",
      "(3390198, '(arousal_rera')\n",
      "(3393218, 'arousal_rera)')\n",
      "(3444000, 'W')\n",
      "(3450000, 'N1')\n",
      "(3468000, 'N2')\n",
      "(3573432, '(arousal_rera')\n",
      "(3576592, 'arousal_rera)')\n",
      "(3582000, 'W')\n",
      "(3606000, 'N1')\n",
      "(3612000, 'N2')\n",
      "(3732000, 'W')\n",
      "(3762000, 'N1')\n",
      "(3774000, 'N2')\n",
      "(3840000, 'N1')\n",
      "(3846000, 'N2')\n",
      "(3870000, 'W')\n",
      "(3888000, 'N1')\n",
      "(3894000, 'N2')\n",
      "(3942000, 'N1')\n",
      "(3960000, 'N2')\n",
      "(4032000, 'W')\n",
      "(4044000, 'N1')\n",
      "(4074000, 'N2')\n",
      "(4086000, 'N1')\n",
      "(4086790, '(arousal_rera')\n",
      "(4089870, 'arousal_rera)')\n",
      "(4098000, 'N2')\n",
      "(4104320, '(arousal_rera')\n",
      "(4106600, 'arousal_rera)')\n",
      "(4110000, 'N1')\n",
      "(4116000, 'N2')\n",
      "(4182000, '(arousal_rera')\n",
      "(4185340, 'arousal_rera)')\n",
      "(4188000, 'W')\n",
      "(4194000, 'N1')\n",
      "(4200000, 'N2')\n",
      "(4205234, '(arousal_rera')\n",
      "(4208394, 'arousal_rera)')\n",
      "(4296000, 'N3')\n",
      "(4302000, 'N2')\n",
      "(4308000, 'R')\n",
      "(4308222, '(arousal_rera')\n",
      "(4311342, 'arousal_rera)')\n",
      "(4335202, '(arousal_rera')\n",
      "(4337742, 'arousal_rera)')\n",
      "(4360122, '(arousal_rera')\n",
      "(4362402, 'arousal_rera)')\n",
      "(4405062, '(resp_centralapnea')\n",
      "(4406782, 'resp_centralapnea)')\n",
      "(4421974, '(arousal_rera')\n",
      "(4424054, 'arousal_rera)')\n",
      "(4491284, '(arousal_rera')\n",
      "(4493844, 'arousal_rera)')\n",
      "(4614000, 'N1')\n",
      "(4626000, 'N2')\n",
      "(4800000, 'N3')\n",
      "(4812000, 'N2')\n",
      "(4818000, 'N3')\n",
      "(5118024, '(arousal_rera')\n",
      "(5120424, 'arousal_rera)')\n",
      "(5124000, 'N2')\n",
      "(5160000, 'N1')\n",
      "(5166000, 'N2')\n",
      "(5238000, 'N1')\n",
      "(5239678, '(arousal_rera')\n",
      "(5242838, 'arousal_rera)')\n",
      "(5244000, 'N2')\n",
      "(5331778, '(resp_centralapnea')\n",
      "(5334338, 'resp_centralapnea)')\n",
      "(5335332, '(resp_centralapnea')\n",
      "(5337752, 'resp_centralapnea)')\n",
      "(5382000, 'N1')\n",
      "(5388000, 'N2')\n",
      "(5412000, 'W')\n",
      "(5418000, 'N1')\n",
      "(5424000, 'N2')\n",
      "(5545234, '(arousal_rera')\n",
      "(5549774, 'arousal_rera)')\n",
      "(5550000, 'N1')\n",
      "(5556000, 'N2')\n",
      "(5607300, '(arousal_rera')\n",
      "(5610020, 'arousal_rera)')\n"
     ]
    }
   ],
   "source": [
    "for i in zip(anno.sample, anno.aux_note):\n",
    "    print(i)"
   ],
   "metadata": {
    "collapsed": false
   }
  },
  {
   "cell_type": "code",
   "execution_count": 19,
   "outputs": [
    {
     "name": "stdout",
     "output_type": "stream",
     "text": [
      "[0 0 0 0 0 0 0 0 0 1 0 1 1 2 2 2 2 2 2 2 2 2 2 2 2 2 2 2 2 2 2 0 1 1 2 2 2\n",
      " 2 2 2 2 2 2 2 3 2 3 3 3 3 3 3 3 3 3 3 3 3 3 3 3 3 3 3 3 3 3 3 3 3 3 3 3 3\n",
      " 0 1 2 2 2 2 2 2 2 2 2 2 2 2 2 2 2 2 2 2 2 2 2 2 2 2 3 2 3 3 3 3 3 3 3 3 3\n",
      " 3 3 3 3 2 2 3 2 2 2 2 2 2 2 2 2 2 2 2 2 2 1 1 1 2 2 2 2 2 2 2 2 2 2 2 2 2\n",
      " 2 2 2 2 2 2 2 2 2 3 3 3 3 3 3 3 3 3 3 3 3 3 3 3 3 3 3 3 3 3 3 3 3 3 3 3 3\n",
      " 2 1 2 2 2 0 0 1 2 2 2 2 2 2 2 2 2 2 2 2 2 2 2 2 2 2 2 2 2 2 2 2 2 2 2 2 2\n",
      " 2 1 2 2 2 2 2 2 2 2 2 2 2 0 1 2 2 2 2 2 2 2 2 2 2 2 2 2 2 2 2 2 2 2 2 2 2\n",
      " 2 2 2 2 2 2 2 2 2 2 4 4 4 4 4 4 4 4 4 4 4 4 4 4 4 4 4 4 4 4 4 4 4 4 4 4 4\n",
      " 4 4 4 4 4 4 4 4 4 4 4 4 1 1 2 2 2 2 2 2 2 2 2 2 2 2 2 2 2 2 2 2 2 2 2 2 2\n",
      " 2 2 2 2 2 2 2 2 2 2 2 2 2 2 2 2 2 2 2 3 3 3 3 3 3 3 3 3 3 3 3 3 3 3 3 3 3\n",
      " 3 3 3 3 3 3 3 3 3 3 3 3 3 3 3 3 3 3 3 2 2 2 2 2 2 2 2 2 3 3 2 2 3 3 3 3 3\n",
      " 3 3 3 2 3 2 2 2 2 2 3 3 3 3 2 3 3 3 2 2 2 2 2 2 2 2 2 2 2 2 3 2 2 3 2 2 3\n",
      " 2 2 3 3 3 3 3 3 3 3 3 1 2 2 2 2 2 2 2 2 2 2 2 2 2 2 2 2 2 2 3 3 3 3 2 3 3\n",
      " 3 3 3 3 3 3 3 3 3 3 3 3 3 3 3 3 2 0 1 2 2 2 2 2 2 2 2 2 2 2 2 2 2 2 2 2 2\n",
      " 2 2 2 2 2 2 2 2 1 2 2 2 2 2 2 2 2 2 2 2 2 2 2 2 2 2 2 2 2 3 2 2 2 2 2 2 2\n",
      " 2 2 2 2 2 0 1 1 1 2 2 2 2 2 2 2 2 2 2 2 2 2 2 2 2 2 2 2 0 0 0 0 1 2 2 2 2\n",
      " 2 2 2 2 2 2 2 2 2 2 2 2 2 2 2 2 0 0 0 0 0 1 1 2 2 2 2 2 2 2 2 2 2 2 1 2 2\n",
      " 2 2 0 0 0 1 2 2 2 2 2 2 2 2 1 1 1 2 2 2 2 2 2 2 2 2 2 2 2 0 0 1 1 1 1 1 2\n",
      " 2 1 1 2 2 1 2 2 2 2 2 2 2 2 2 2 2 2 0 1 2 2 2 2 2 2 2 2 2 2 2 2 2 2 2 2 3\n",
      " 2 4 4 4 4 4 4 4 4 4 4 4 4 4 4 4 4 4 4 4 4 4 4 4 4 4 4 4 4 4 4 4 4 4 4 4 4\n",
      " 4 4 4 4 4 4 4 4 4 4 4 4 4 4 4 1 1 2 2 2 2 2 2 2 2 2 2 2 2 2 2 2 2 2 2 2 2\n",
      " 2 2 2 2 2 2 2 2 2 3 3 2 3 3 3 3 3 3 3 3 3 3 3 3 3 3 3 3 3 3 3 3 3 3 3 3 3\n",
      " 3 3 3 3 3 3 3 3 3 3 3 3 3 3 3 3 3 3 3 3 3 3 3 3 3 3 2 2 2 2 2 2 1 2 2 2 2\n",
      " 2 2 2 2 2 2 2 2 1 2 2 2 2 2 2 2 2 2 2 2 2 2 2 2 2 2 2 2 2 2 2 2 1 2 2 2 2\n",
      " 0 1 2 2 2 2 2 2 2 2 2 2 2 2 2 2 2 2 2 2 2 2 2 1 2 2 2 2 2 2 2 2 2 2 2 2 2\n",
      " 2 2 2 2 2 2 2 2 2 2 2 2 2 2 2]\n"
     ]
    }
   ],
   "source": [
    "print(stages)"
   ],
   "metadata": {
    "collapsed": false,
    "ExecuteTime": {
     "end_time": "2023-06-28T02:27:36.108555Z",
     "start_time": "2023-06-28T02:27:36.079888Z"
    }
   }
  },
  {
   "cell_type": "code",
   "execution_count": 20,
   "outputs": [
    {
     "data": {
      "text/plain": "(954, 9, 3000)"
     },
     "execution_count": 20,
     "metadata": {},
     "output_type": "execute_result"
    }
   ],
   "source": [
    "epochs.shape"
   ],
   "metadata": {
    "collapsed": false,
    "ExecuteTime": {
     "end_time": "2023-06-28T02:27:36.123760Z",
     "start_time": "2023-06-28T02:27:36.082126Z"
    }
   }
  },
  {
   "cell_type": "code",
   "execution_count": 21,
   "outputs": [
    {
     "data": {
      "text/plain": "14"
     },
     "execution_count": 21,
     "metadata": {},
     "output_type": "execute_result"
    }
   ],
   "source": [
    "idx"
   ],
   "metadata": {
    "collapsed": false,
    "ExecuteTime": {
     "end_time": "2023-06-28T02:27:36.124462Z",
     "start_time": "2023-06-28T02:27:36.085704Z"
    }
   }
  },
  {
   "cell_type": "code",
   "execution_count": 22,
   "outputs": [],
   "source": [
    "epochs_ = epochs[idx:]"
   ],
   "metadata": {
    "collapsed": false,
    "ExecuteTime": {
     "end_time": "2023-06-28T02:27:36.124852Z",
     "start_time": "2023-06-28T02:27:36.088Z"
    }
   }
  },
  {
   "cell_type": "code",
   "execution_count": 23,
   "outputs": [],
   "source": [
    "epochs = epochs[idx:].tolist()"
   ],
   "metadata": {
    "collapsed": false,
    "ExecuteTime": {
     "end_time": "2023-06-28T02:27:37.059759Z",
     "start_time": "2023-06-28T02:27:37.055349Z"
    }
   }
  },
  {
   "cell_type": "code",
   "execution_count": 24,
   "outputs": [
    {
     "data": {
      "text/plain": "940"
     },
     "execution_count": 24,
     "metadata": {},
     "output_type": "execute_result"
    }
   ],
   "source": [
    "len(epochs)"
   ],
   "metadata": {
    "collapsed": false,
    "ExecuteTime": {
     "end_time": "2023-06-28T02:27:37.066912Z",
     "start_time": "2023-06-28T02:27:37.063042Z"
    }
   }
  },
  {
   "cell_type": "code",
   "execution_count": 26,
   "outputs": [],
   "source": [
    "paths = pd.read_table(os.path.join(root_path, \"RECORDS\"), names=['subname'])"
   ],
   "metadata": {
    "collapsed": false,
    "ExecuteTime": {
     "end_time": "2023-06-29T08:22:10.801951Z",
     "start_time": "2023-06-29T08:22:10.801505Z"
    }
   }
  },
  {
   "cell_type": "code",
   "execution_count": 31,
   "outputs": [],
   "source": [
    "paths = paths.values"
   ],
   "metadata": {
    "collapsed": false,
    "ExecuteTime": {
     "end_time": "2023-06-29T08:23:38.739382Z",
     "start_time": "2023-06-29T08:23:38.736204Z"
    }
   }
  },
  {
   "cell_type": "code",
   "execution_count": 38,
   "outputs": [],
   "source": [
    "names = [i[0][:-1] for i in paths]"
   ],
   "metadata": {
    "collapsed": false,
    "ExecuteTime": {
     "end_time": "2023-06-29T08:25:04.806748Z",
     "start_time": "2023-06-29T08:25:04.802856Z"
    }
   }
  },
  {
   "cell_type": "code",
   "execution_count": 44,
   "outputs": [],
   "source": [
    "np.save('./Sleep/Sleep/main/data/Physio', names)"
   ],
   "metadata": {
    "collapsed": false,
    "ExecuteTime": {
     "end_time": "2023-06-29T08:26:06.114577Z",
     "start_time": "2023-06-29T08:26:06.103776Z"
    }
   }
  },
  {
   "cell_type": "code",
   "execution_count": 50,
   "outputs": [],
   "source": [
    "import torch\n",
    "x = torch.rand(3, 5)"
   ],
   "metadata": {
    "collapsed": false,
    "ExecuteTime": {
     "end_time": "2023-06-29T14:11:32.540089Z",
     "start_time": "2023-06-29T14:11:32.535596Z"
    }
   }
  },
  {
   "cell_type": "code",
   "execution_count": 51,
   "outputs": [
    {
     "data": {
      "text/plain": "torch.Size([3, 5])"
     },
     "execution_count": 51,
     "metadata": {},
     "output_type": "execute_result"
    }
   ],
   "source": [
    "x.shape"
   ],
   "metadata": {
    "collapsed": false,
    "ExecuteTime": {
     "end_time": "2023-06-29T14:11:32.661478Z",
     "start_time": "2023-06-29T14:11:32.653250Z"
    }
   }
  },
  {
   "cell_type": "code",
   "execution_count": 54,
   "outputs": [],
   "source": [
    "x = torch.ones(2,3,3)"
   ],
   "metadata": {
    "collapsed": false,
    "ExecuteTime": {
     "end_time": "2023-06-29T14:45:54.194563Z",
     "start_time": "2023-06-29T14:45:54.185853Z"
    }
   }
  },
  {
   "cell_type": "code",
   "execution_count": 55,
   "outputs": [
    {
     "data": {
      "text/plain": "tensor([[[1., 1., 1.],\n         [1., 1., 1.],\n         [1., 1., 1.]],\n\n        [[1., 1., 1.],\n         [1., 1., 1.],\n         [1., 1., 1.]]])"
     },
     "execution_count": 55,
     "metadata": {},
     "output_type": "execute_result"
    }
   ],
   "source": [
    "x"
   ],
   "metadata": {
    "collapsed": false,
    "ExecuteTime": {
     "end_time": "2023-06-29T14:45:54.428952Z",
     "start_time": "2023-06-29T14:45:54.416923Z"
    }
   }
  },
  {
   "cell_type": "code",
   "execution_count": 56,
   "outputs": [],
   "source": [
    "pos = torch.ones(1,1,3)"
   ],
   "metadata": {
    "collapsed": false,
    "ExecuteTime": {
     "end_time": "2023-06-29T14:46:09.303640Z",
     "start_time": "2023-06-29T14:46:09.297518Z"
    }
   }
  },
  {
   "cell_type": "code",
   "execution_count": 57,
   "outputs": [
    {
     "data": {
      "text/plain": "tensor([[[1., 1., 1.]]])"
     },
     "execution_count": 57,
     "metadata": {},
     "output_type": "execute_result"
    }
   ],
   "source": [
    "pos"
   ],
   "metadata": {
    "collapsed": false,
    "ExecuteTime": {
     "end_time": "2023-06-29T14:46:10.162696Z",
     "start_time": "2023-06-29T14:46:10.135958Z"
    }
   }
  },
  {
   "cell_type": "code",
   "execution_count": 58,
   "outputs": [],
   "source": [
    "pos = pos.repeat_interleave(3, dim=1)"
   ],
   "metadata": {
    "collapsed": false,
    "ExecuteTime": {
     "end_time": "2023-06-29T14:46:28.557493Z",
     "start_time": "2023-06-29T14:46:28.537155Z"
    }
   }
  },
  {
   "cell_type": "code",
   "execution_count": 61,
   "outputs": [],
   "source": [
    "pos[:,1,:] *= 2"
   ],
   "metadata": {
    "collapsed": false,
    "ExecuteTime": {
     "end_time": "2023-06-29T14:46:59.685822Z",
     "start_time": "2023-06-29T14:46:59.668998Z"
    }
   }
  },
  {
   "cell_type": "code",
   "execution_count": 62,
   "outputs": [
    {
     "data": {
      "text/plain": "tensor([[[2., 2., 2.],\n         [3., 3., 3.],\n         [2., 2., 2.]],\n\n        [[2., 2., 2.],\n         [3., 3., 3.],\n         [2., 2., 2.]]])"
     },
     "execution_count": 62,
     "metadata": {},
     "output_type": "execute_result"
    }
   ],
   "source": [
    "x + pos"
   ],
   "metadata": {
    "collapsed": false,
    "ExecuteTime": {
     "end_time": "2023-06-29T14:47:01.142294Z",
     "start_time": "2023-06-29T14:47:01.126431Z"
    }
   }
  },
  {
   "cell_type": "code",
   "execution_count": 63,
   "outputs": [
    {
     "data": {
      "text/plain": "tensor([[[1., 1., 1.],\n         [2., 2., 2.],\n         [1., 1., 1.]]])"
     },
     "execution_count": 63,
     "metadata": {},
     "output_type": "execute_result"
    }
   ],
   "source": [
    "pos"
   ],
   "metadata": {
    "collapsed": false,
    "ExecuteTime": {
     "end_time": "2023-06-29T14:47:04.578565Z",
     "start_time": "2023-06-29T14:47:04.550761Z"
    }
   }
  },
  {
   "cell_type": "code",
   "execution_count": 68,
   "outputs": [],
   "source": [
    "all_channel_np = np.array(['AF3', 'AF4', 'C1', 'C2', 'C3', 'C4', 'C5', 'C6', 'CP1', 'CP2', 'CP3', 'CP4','CP5'\n",
    "     ,'CP6' ,'Cz' ,'ECG' ,'EMG1' ,'EMG2' ,'EOG1' ,'EOG2' ,'F1' ,'F2' ,'F3' ,'F4' ,'F5'\n",
    "     ,'F6' ,'F7' ,'F8' ,'FC1' ,'FC2' ,'FC3' ,'FC4' ,'FC5' ,'FC6' ,'Fp1' ,'Fp2' ,'Fpz' ,'Fz'\n",
    "     ,'O1' ,'O2' ,'Oz' ,'P1' ,'P2' ,'P3' ,'P4' ,'P5' ,'P6' ,'P7' ,'P8' ,'PO3' ,'PO4' ,'POz'\n",
    "     ,'Pz' ,'T7' ,'T8' ,'TP7' ,'TP8'])\n",
    "fft_np = np.array(['C3', 'C4', 'ECG', 'EMG1', 'EMG2', 'EOG1', 'EOG2', 'F3', 'F4', 'Fpz', 'O1', 'O2', 'Pz'])"
   ],
   "metadata": {
    "collapsed": false,
    "ExecuteTime": {
     "end_time": "2023-07-04T06:43:52.534928Z",
     "start_time": "2023-07-04T06:43:52.530413Z"
    }
   }
  },
  {
   "cell_type": "code",
   "execution_count": 74,
   "outputs": [],
   "source": [
    "idx = [idx\n",
    " for idx, i in enumerate(all_channel_np) if i in fft_np]"
   ],
   "metadata": {
    "collapsed": false,
    "ExecuteTime": {
     "end_time": "2023-07-04T06:47:55.797110Z",
     "start_time": "2023-07-04T06:47:55.790705Z"
    }
   }
  },
  {
   "cell_type": "code",
   "execution_count": 75,
   "outputs": [
    {
     "data": {
      "text/plain": "array(['C3', 'C4', 'ECG', 'EMG1', 'EMG2', 'EOG1', 'EOG2', 'F3', 'F4',\n       'Fpz', 'O1', 'O2', 'Pz'], dtype='<U4')"
     },
     "execution_count": 75,
     "metadata": {},
     "output_type": "execute_result"
    }
   ],
   "source": [
    "all_channel_np[idx]"
   ],
   "metadata": {
    "collapsed": false,
    "ExecuteTime": {
     "end_time": "2023-07-04T06:48:01.652599Z",
     "start_time": "2023-07-04T06:48:01.632001Z"
    }
   }
  },
  {
   "cell_type": "code",
   "execution_count": 130,
   "outputs": [],
   "source": [
    "t = torch.tensor([[[1,2,3],[0,0,1], [0,1,0]]], dtype=torch.float)"
   ],
   "metadata": {
    "collapsed": false,
    "ExecuteTime": {
     "end_time": "2023-07-04T07:51:07.285590Z",
     "start_time": "2023-07-04T07:51:07.273716Z"
    }
   }
  },
  {
   "cell_type": "code",
   "execution_count": 131,
   "outputs": [],
   "source": [
    "conv = torch.nn.Conv1d(in_channels=3, out_channels=6, kernel_size=3, stride=3, padding=0,groups=3, bias=False)"
   ],
   "metadata": {
    "collapsed": false,
    "ExecuteTime": {
     "end_time": "2023-07-04T07:51:07.428418Z",
     "start_time": "2023-07-04T07:51:07.412091Z"
    }
   }
  },
  {
   "cell_type": "code",
   "execution_count": 132,
   "outputs": [],
   "source": [
    "res = conv(t)"
   ],
   "metadata": {
    "collapsed": false,
    "ExecuteTime": {
     "end_time": "2023-07-04T07:51:07.563232Z",
     "start_time": "2023-07-04T07:51:07.556927Z"
    }
   }
  },
  {
   "cell_type": "code",
   "execution_count": 133,
   "outputs": [
    {
     "data": {
      "text/plain": "tensor([[[-1.4540],\n         [-1.2223],\n         [ 0.3685],\n         [-0.2436],\n         [-0.4902],\n         [-0.3495]]], grad_fn=<ConvolutionBackward0>)"
     },
     "execution_count": 133,
     "metadata": {},
     "output_type": "execute_result"
    }
   ],
   "source": [
    "res"
   ],
   "metadata": {
    "collapsed": false,
    "ExecuteTime": {
     "end_time": "2023-07-04T07:51:07.703497Z",
     "start_time": "2023-07-04T07:51:07.695924Z"
    }
   }
  },
  {
   "cell_type": "code",
   "execution_count": 134,
   "outputs": [],
   "source": [
    "import torch.nn.functional as f\n",
    "f_res = f.conv1d(t[:,0], weight=conv.weight[:2], stride=3)"
   ],
   "metadata": {
    "collapsed": false,
    "ExecuteTime": {
     "end_time": "2023-07-04T07:51:07.862725Z",
     "start_time": "2023-07-04T07:51:07.857860Z"
    }
   }
  },
  {
   "cell_type": "code",
   "execution_count": 135,
   "outputs": [],
   "source": [
    "res_re = res.reshape(res.shape[0], 3, 2, 1)"
   ],
   "metadata": {
    "collapsed": false,
    "ExecuteTime": {
     "end_time": "2023-07-04T07:51:08.612422Z",
     "start_time": "2023-07-04T07:51:08.606397Z"
    }
   }
  },
  {
   "cell_type": "code",
   "execution_count": 142,
   "outputs": [],
   "source": [
    "res_re_ein = torch.einsum('bcep->bcpe', res_re)"
   ],
   "metadata": {
    "collapsed": false,
    "ExecuteTime": {
     "end_time": "2023-07-04T07:57:01.123526Z",
     "start_time": "2023-07-04T07:57:01.119633Z"
    }
   }
  },
  {
   "cell_type": "code",
   "execution_count": 144,
   "outputs": [
    {
     "data": {
      "text/plain": "torch.Size([1, 3, 1, 2])"
     },
     "execution_count": 144,
     "metadata": {},
     "output_type": "execute_result"
    }
   ],
   "source": [
    "res_re_ein.reshape"
   ],
   "metadata": {
    "collapsed": false,
    "ExecuteTime": {
     "end_time": "2023-07-04T07:58:50.227059Z",
     "start_time": "2023-07-04T07:58:50.214985Z"
    }
   }
  },
  {
   "cell_type": "code",
   "execution_count": 174,
   "outputs": [
    {
     "name": "stderr",
     "output_type": "stream",
     "text": [
      "100%|██████████| 2/2 [00:00<00:00, 41.87it/s]"
     ]
    },
    {
     "name": "stdout",
     "output_type": "stream",
     "text": [
      "994\n",
      "989\n"
     ]
    },
    {
     "name": "stderr",
     "output_type": "stream",
     "text": [
      "\n"
     ]
    }
   ],
   "source": [
    "Root_path = \"/nd_disk1/weixuan/PhysioNet\"\n",
    "for which in tqdm(['training', 'test']):\n",
    "    root_path = os.path.join(Root_path, which)\n",
    "    paths = pd.read_table(os.path.join(root_path, \"RECORDS\"), names=['subname'])\n",
    "    physio_arr = np.array(paths)\n",
    "    physio_arr = physio_arr.squeeze()\n",
    "    names = np.array([name[:-1] for name in physio_arr])\n",
    "    names1 =  names[:300]\n",
    "    names2 = names[300:600]\n",
    "    names3 = names[600:]\n",
    "    np.save(os.path.join(\"/nd_disk1/weixuan/Physio_process\", which, \"names1\"), names1)\n",
    "    np.save(os.path.join(\"/nd_disk1/weixuan/Physio_process\", which, \"names2\"), names2)\n",
    "    np.save(os.path.join(\"/nd_disk1/weixuan/Physio_process\", which, \"names3\"), names3)\n",
    "    print(names1.shape[0] + names2.shape[0] + names3.shape[0])\n",
    "    # Physio.npy"
   ],
   "metadata": {
    "collapsed": false,
    "ExecuteTime": {
     "end_time": "2023-07-09T13:17:32.406050Z",
     "start_time": "2023-07-09T13:17:32.329558Z"
    }
   }
  },
  {
   "cell_type": "code",
   "execution_count": 172,
   "outputs": [
    {
     "data": {
      "text/plain": "array(['te03-0024', 'te03-0031', 'te03-0032', 'te03-0037', 'te03-0041',\n       'te03-0046', 'te03-0048', 'te03-0050', 'te03-0054', 'te03-0062',\n       'te03-0076', 'te03-0080', 'te03-0088', 'te03-0091', 'te03-0104',\n       'te03-0106', 'te03-0112', 'te03-0125', 'te03-0132', 'te03-0137',\n       'te03-0145', 'te03-0162', 'te03-0193', 'te03-0195', 'te03-0211',\n       'te03-0213', 'te03-0221', 'te03-0225', 'te03-0230', 'te03-0231',\n       'te03-0240', 'te03-0276', 'te03-0284', 'te03-0286', 'te03-0293',\n       'te03-0313', 'te03-0317', 'te03-0319', 'te03-0324', 'te03-0335',\n       'te03-0368', 'te03-0371', 'te03-0383', 'te03-0407', 'te03-0416',\n       'te03-0422', 'te03-0436', 'te03-0440', 'te03-0441', 'te03-0445',\n       'te03-0460', 'te03-0466', 'te03-0475', 'te03-0478', 'te03-0480',\n       'te03-0491', 'te03-0492', 'te03-0496', 'te03-0499', 'te03-0505',\n       'te03-0513', 'te03-0524', 'te03-0525', 'te03-0552', 'te03-0557',\n       'te03-0577', 'te03-0586', 'te03-0593', 'te03-0603', 'te03-0604',\n       'te03-0608', 'te03-0611', 'te03-0616', 'te03-0620', 'te03-0621',\n       'te03-0632', 'te03-0660', 'te03-0676', 'te03-0704', 'te03-0717',\n       'te03-0730', 'te03-0747', 'te03-0750', 'te03-0776', 'te03-0782',\n       'te03-0798', 'te03-0800', 'te03-0805', 'te03-0811', 'te03-0819',\n       'te03-0827', 'te03-0839', 'te03-0848', 'te03-0856', 'te03-0858',\n       'te03-0864', 'te03-0880', 'te03-0889', 'te03-0892', 'te03-0910',\n       'te03-0927', 'te03-0936', 'te03-0944', 'te03-0948', 'te03-0950',\n       'te03-0954', 'te03-0960', 'te03-0975', 'te03-0978', 'te03-0980',\n       'te03-1007', 'te03-1009', 'te03-1016', 'te03-1025', 'te03-1039',\n       'te03-1051', 'te03-1055', 'te03-1059', 'te03-1067', 'te03-1072',\n       'te03-1079', 'te03-1086', 'te03-1093', 'te03-1098', 'te03-1104',\n       'te03-1105', 'te03-1109', 'te03-1110', 'te03-1117', 'te03-1118',\n       'te03-1133', 'te03-1156', 'te03-1178', 'te03-1213', 'te03-1216',\n       'te03-1230', 'te03-1291', 'te03-1308', 'te03-1318', 'te03-1320',\n       'te03-1325', 'te03-1330', 'te03-1334', 'te03-1342', 'te03-1347',\n       'te03-1348', 'te03-1364', 'te03-1365', 'te03-1372', 'te03-1377',\n       'te03-1380', 'te03-1398', 'te03-1400', 'te04-0012', 'te04-0037',\n       'te04-0071', 'te04-0080', 'te04-0092', 'te04-0101', 'te04-0102',\n       'te04-0103', 'te04-0107', 'te04-0125', 'te04-0130', 'te04-0141',\n       'te04-0149', 'te04-0153', 'te04-0154', 'te04-0172', 'te04-0203',\n       'te04-0215', 'te04-0234', 'te04-0235', 'te04-0241', 'te04-0253',\n       'te04-0257', 'te04-0268', 'te04-0272', 'te04-0280', 'te04-0303',\n       'te04-0329', 'te04-0346', 'te04-0350', 'te04-0353', 'te04-0361',\n       'te04-0367', 'te04-0373', 'te04-0378', 'te04-0384', 'te04-0395',\n       'te04-0398', 'te04-0406', 'te04-0416', 'te04-0424', 'te04-0449',\n       'te04-0467', 'te04-0477', 'te04-0479', 'te04-0483', 'te04-0487',\n       'te04-0489', 'te04-0496', 'te04-0497', 'te04-0510', 'te04-0521',\n       'te04-0529', 'te04-0543', 'te04-0564', 'te04-0574', 'te04-0581',\n       'te04-0582', 'te04-0596', 'te04-0602', 'te04-0624', 'te04-0641',\n       'te04-0651', 'te04-0664', 'te04-0665', 'te04-0669', 'te04-0677',\n       'te04-0697', 'te04-0707', 'te04-0721', 'te04-0729', 'te04-0753',\n       'te04-0758', 'te04-0761', 'te04-0775', 'te04-0779', 'te04-0797',\n       'te04-0807', 'te04-0811', 'te04-0813', 'te04-0827', 'te04-0832',\n       'te04-0838', 'te04-0842', 'te04-0845', 'te04-0849', 'te04-0857',\n       'te04-0858', 'te04-0880', 'te04-0885', 'te04-0889', 'te04-0895',\n       'te04-0897', 'te04-0899', 'te04-0901', 'te04-0906', 'te04-0932',\n       'te04-0953', 'te04-0962', 'te04-0970', 'te04-0976', 'te04-0990',\n       'te04-0992', 'te04-1018', 'te04-1031', 'te04-1035', 'te04-1046',\n       'te04-1047', 'te04-1065', 'te04-1086', 'te04-1118', 'te04-1130',\n       'te05-0038', 'te05-0043', 'te05-0073', 'te05-0082', 'te05-0088',\n       'te05-0108', 'te05-0126', 'te05-0130', 'te05-0131', 'te05-0151',\n       'te05-0165', 'te05-0173', 'te05-0177', 'te05-0194', 'te05-0209',\n       'te05-0255', 'te05-0271', 'te05-0272', 'te05-0280', 'te05-0283',\n       'te05-0290', 'te05-0314', 'te05-0339', 'te05-0347', 'te05-0351',\n       'te05-0365', 'te05-0369', 'te05-0371', 'te05-0388', 'te05-0401',\n       'te05-0402', 'te05-0421', 'te05-0430', 'te05-0433', 'te05-0450',\n       'te05-0451', 'te05-0457', 'te05-0473', 'te05-0518', 'te05-0540',\n       'te05-0541', 'te05-0551', 'te05-0555', 'te05-0567', 'te05-0571',\n       'te05-0584', 'te05-0606', 'te05-0616', 'te05-0626', 'te05-0628',\n       'te05-0658', 'te05-0660', 'te05-0661', 'te05-0684', 'te05-0693',\n       'te05-0695', 'te05-0697', 'te05-0700', 'te05-0708', 'te05-0717',\n       'te05-0722', 'te05-0731', 'te05-0740', 'te05-0747', 'te05-0786',\n       'te05-0804', 'te05-0810', 'te05-0830', 'te05-0832', 'te05-0836',\n       'te05-0842', 'te05-0862', 'te05-0886', 'te05-0887', 'te05-0901',\n       'te05-0908', 'te05-0922', 'te05-0942', 'te05-0950', 'te05-0953',\n       'te05-0997', 'te05-0998', 'te05-1001', 'te05-1016', 'te05-1019',\n       'te05-1036', 'te05-1038', 'te05-1044', 'te05-1049', 'te05-1062',\n       'te05-1069', 'te05-1073', 'te05-1075', 'te05-1079', 'te05-1087',\n       'te05-1124', 'te05-1141', 'te05-1143', 'te05-1151', 'te05-1155',\n       'te05-1164', 'te05-1204', 'te05-1246', 'te05-1249', 'te05-1251',\n       'te05-1254', 'te05-1267', 'te05-1281', 'te05-1296', 'te05-1331',\n       'te05-1334', 'te05-1335', 'te05-1352', 'te05-1378', 'te05-1380',\n       'te05-1390', 'te05-1416', 'te05-1420', 'te05-1421', 'te05-1427',\n       'te05-1436', 'te05-1439', 'te05-1470', 'te05-1484', 'te05-1495',\n       'te05-1500', 'te05-1505', 'te05-1517', 'te05-1525', 'te05-1529',\n       'te05-1530', 'te05-1544', 'te05-1548', 'te05-1552', 'te05-1557',\n       'te05-1559', 'te05-1578', 'te05-1581', 'te05-1587', 'te05-1588',\n       'te05-1592', 'te05-1594', 'te05-1605', 'te05-1621', 'te05-1623',\n       'te05-1626', 'te05-1627', 'te05-1628', 'te05-1633', 'te05-1634',\n       'te05-1640', 'te05-1647', 'te05-1658', 'te05-1660', 'te05-1665',\n       'te05-1667', 'te05-1672', 'te05-1680', 'te05-1685', 'te05-1697',\n       'te05-1701', 'te05-1703', 'te05-1724', 'te05-1827', 'te05-1828',\n       'te05-1830', 'te06-0001', 'te06-0002', 'te06-0016', 'te06-0021',\n       'te06-0031', 'te06-0032', 'te06-0033', 'te06-0034', 'te06-0038',\n       'te06-0040', 'te06-0045', 'te06-0047', 'te06-0067', 'te06-0071',\n       'te06-0072', 'te06-0088', 'te06-0105', 'te06-0110', 'te06-0123',\n       'te06-0131', 'te06-0143', 'te06-0149', 'te06-0162', 'te06-0179',\n       'te06-0208', 'te06-0209', 'te06-0235', 'te06-0237', 'te06-0248',\n       'te06-0252', 'te06-0260', 'te06-0266', 'te06-0273', 'te06-0287',\n       'te06-0293', 'te06-0305', 'te06-0321', 'te06-0338', 'te06-0342',\n       'te06-0357', 'te06-0367', 'te06-0395', 'te06-0396', 'te06-0412',\n       'te06-0413', 'te06-0428', 'te06-0442', 'te06-0445', 'te06-0455',\n       'te06-0457', 'te06-0461', 'te06-0482', 'te06-0484', 'te06-0493',\n       'te06-0518', 'te06-0519', 'te06-0540', 'te06-0543', 'te06-0546',\n       'te06-0581', 'te06-0585', 'te06-0597', 'te06-0613', 'te06-0614',\n       'te06-0623', 'te06-0629', 'te06-0635', 'te06-0641', 'te06-0642',\n       'te06-0645', 'te06-0666', 'te06-0667', 'te06-0669', 'te06-0681',\n       'te06-0692', 'te06-0695', 'te06-0699', 'te06-0713', 'te06-0717',\n       'te06-0731', 'te06-0744', 'te06-0748', 'te06-0766', 'te06-0770',\n       'te06-0793', 'te06-0796', 'te06-0813', 'te06-0816', 'te06-0828',\n       'te06-0840', 'te06-0848', 'te06-0849', 'te06-0857', 'te06-0867',\n       'te06-0872', 'te06-0873', 'te06-0874', 'te06-0886', 'te06-0887',\n       'te06-0896', 'te06-1008', 'te06-1110', 'te06-1118', 'te06-1130',\n       'te06-1177', 'te07-0004', 'te07-0006', 'te07-0007', 'te07-0009',\n       'te07-0014', 'te07-0020', 'te07-0051', 'te07-0052', 'te07-0057',\n       'te07-0060', 'te07-0062', 'te07-0063', 'te07-0070', 'te07-0096',\n       'te07-0117', 'te07-0122', 'te07-0128', 'te07-0146', 'te07-0149',\n       'te07-0158', 'te07-0172', 'te07-0175', 'te07-0177', 'te07-0185',\n       'te07-0218', 'te07-0220', 'te07-0226', 'te07-0233', 'te07-0234',\n       'te07-0252', 'te07-0270', 'te07-0271', 'te07-0287', 'te07-0289',\n       'te07-0311', 'te07-0316', 'te07-0328', 'te07-0331', 'te07-0348',\n       'te07-0356', 'te07-0361', 'te07-0365', 'te07-0378', 'te07-0405',\n       'te07-0417', 'te07-0433', 'te07-0447', 'te07-0476', 'te07-0480',\n       'te07-0493', 'te07-0495', 'te07-0496', 'te07-0510', 'te07-0515',\n       'te07-0518', 'te07-0547', 'te07-0550', 'te07-0552', 'te07-0556',\n       'te07-0573', 'te07-0597', 'te07-0613', 'te07-0617', 'te07-0644',\n       'te07-0671', 'te07-0674', 'te07-0677', 'te07-0682', 'te07-0683',\n       'te07-0692', 'te07-0693', 'te07-0694', 'te07-0699', 'te07-0704',\n       'te07-0706', 'te07-0715', 'te07-0740', 'te07-0742', 'te07-0746',\n       'te07-0749', 'te07-0754', 'te07-0778', 'te07-0779', 'te07-0785',\n       'te07-0797', 'te07-0799', 'te07-0813', 'te07-0816', 'te07-0831',\n       'te07-0838', 'te07-0839', 'te07-0840', 'te07-0844', 'te07-0851',\n       'te07-0898', 'te07-0903', 'te07-0917', 'te07-0965', 'te08-0019',\n       'te08-0100', 'te08-0102', 'te08-0163', 'te08-0207', 'te08-0210',\n       'te08-0215', 'te08-0223', 'te08-0225', 'te08-0258', 'te08-0262',\n       'te08-0278', 'te08-0281', 'te08-0317', 'te08-0320', 'te08-0321',\n       'te08-0325', 'te08-0352', 'te09-0001', 'te09-0003', 'te09-0032',\n       'te09-0035', 'te09-0046', 'te09-0084', 'te09-0094', 'te09-0117',\n       'te09-0118', 'te09-0121', 'te09-0123', 'te09-0133', 'te09-0137',\n       'te09-0145', 'te09-0149', 'te09-0151', 'te09-0156', 'te09-0167',\n       'te09-0171', 'te09-0174', 'te09-0193', 'te09-0222', 'te09-0228',\n       'te09-0231', 'te09-0248', 'te09-0272', 'te09-0277', 'te09-0285',\n       'te09-0289', 'te09-0300', 'te09-0301', 'te09-0310', 'te09-0312',\n       'te09-0315', 'te09-0343', 'te09-0380', 'te09-0386', 'te09-0391',\n       'te09-0407', 'te09-0415', 'te09-0429', 'te09-0458', 'te09-0459',\n       'te09-0468', 'te09-0481', 'te09-0502', 'te09-0521', 'te09-0538',\n       'te09-0548', 'te09-0549', 'te09-0550', 'te09-0554', 'te09-0566',\n       'te09-0582', 'te09-0585', 'te09-0589', 'te09-0601', 'te09-0605',\n       'te09-0634', 'te09-0645', 'te10-0041', 'te10-0062', 'te10-0075',\n       'te10-0107', 'te10-0143', 'te10-0145', 'te10-0168', 'te10-0180',\n       'te10-0186', 'te10-0208', 'te10-0230', 'te10-0244', 'te10-0262',\n       'te10-0276', 'te10-0279', 'te10-0299', 'te10-0337', 'te10-0374',\n       'te10-0397', 'te10-0428', 'te10-0451', 'te10-0490', 'te10-0503',\n       'te10-0532', 'te10-0552', 'te10-0560', 'te10-0574', 'te10-0605',\n       'te10-0631', 'te10-0637', 'te10-0649', 'te10-0657', 'te10-0679',\n       'te10-0684', 'te10-0738', 'te10-0755', 'te10-0759', 'te10-0766',\n       'te10-0774', 'te10-0791', 'te10-0819', 'te10-0859', 'te11-0005',\n       'te11-0014', 'te11-0026', 'te11-0045', 'te11-0047', 'te11-0057',\n       'te11-0066', 'te11-0067', 'te11-0075', 'te11-0077', 'te11-0093',\n       'te11-0112', 'te11-0117', 'te11-0131', 'te11-0141', 'te11-0164',\n       'te11-0167', 'te11-0170', 'te11-0173', 'te11-0189', 'te11-0196',\n       'te11-0313', 'te11-0321', 'te11-0330', 'te11-0336', 'te11-0340',\n       'te11-0346', 'te11-0348', 'te11-0351', 'te11-0353', 'te11-0360',\n       'te11-0369', 'te11-0374', 'te11-0384', 'te11-0389', 'te11-0390',\n       'te11-0394', 'te11-0409', 'te11-0412', 'te11-0420', 'te11-0425',\n       'te11-0444', 'te11-0477', 'te11-0480', 'te11-0482', 'te11-0488',\n       'te11-0489', 'te11-0506', 'te11-0511', 'te11-0517', 'te11-0526',\n       'te11-0538', 'te11-0554', 'te11-0557', 'te11-0559', 'te11-0583',\n       'te11-0588', 'te11-0601', 'te11-0605', 'te11-0618', 'te11-0624',\n       'te11-0647', 'te11-0651', 'te11-0664', 'te11-0667', 'te11-0675',\n       'te11-0684', 'te11-0695', 'te11-0697', 'te11-0702', 'te11-0725',\n       'te11-0728', 'te11-0731', 'te11-0738', 'te11-0753', 'te11-0768',\n       'te11-0779', 'te12-0039', 'te12-0048', 'te12-0063', 'te12-0072',\n       'te12-0087', 'te12-0100', 'te12-0112', 'te12-0146', 'te12-0156',\n       'te12-0164', 'te12-0180', 'te12-0186', 'te12-0188', 'te12-0226',\n       'te12-0239', 'te12-0246', 'te12-0256', 'te12-0257', 'te12-0305',\n       'te12-0307', 'te12-0311', 'te12-0331', 'te12-0351', 'te12-0378',\n       'te12-0381', 'te12-0383', 'te12-0388', 'te12-0418', 'te12-0422',\n       'te12-0430', 'te12-0443', 'te12-0444', 'te12-0447', 'te12-0458',\n       'te12-0459', 'te12-0466', 'te12-0482', 'te12-0486', 'te12-0487',\n       'te12-0488', 'te12-0498', 'te12-0507', 'te12-0508', 'te12-0514',\n       'te12-0538', 'te12-0544', 'te12-0547', 'te12-0550', 'te12-0553',\n       'te12-0556', 'te12-0562', 'te12-0565', 'te12-0584', 'te12-0585',\n       'te12-0586', 'te12-0590', 'te12-0612', 'te12-0628', 'te12-0636',\n       'te12-0641', 'te12-0651', 'te12-0653', 'te12-0660', 'te12-0664',\n       'te13-0062', 'te13-0066', 'te13-0072', 'te13-0102', 'te13-0116',\n       'te13-0123', 'te13-0135', 'te13-0137', 'te13-0169', 'te13-0172',\n       'te13-0190', 'te13-0200', 'te13-0209', 'te13-0242', 'te13-0248',\n       'te13-0249', 'te13-0253', 'te13-0263', 'te13-0272', 'te13-0275',\n       'te13-0281', 'te13-0283', 'te13-0286', 'te13-0301', 'te13-0357',\n       'te13-0360', 'te13-0371', 'te13-0377', 'te13-0390', 'te13-0402',\n       'te13-0409', 'te13-0415', 'te13-0418', 'te13-0428', 'te13-0430',\n       'te13-0442', 'te13-0446', 'te13-0456', 'te13-0458', 'te13-0459',\n       'te13-0470', 'te13-0481', 'te13-0484', 'te13-0486', 'te13-0516',\n       'te13-0520', 'te13-0530', 'te13-0559', 'te13-0574', 'te13-0597',\n       'te13-0602', 'te13-0609', 'te13-0622', 'te13-0629', 'te13-0633',\n       'te13-0634', 'te13-0636', 'te13-0639', 'te13-0670', 'te13-0678',\n       'te13-0682', 'te13-0821', 'te13-0823', 'te13-0827', 'te13-0848',\n       'te13-0851', 'te14-0015', 'te14-0017', 'te14-0032', 'te14-0038',\n       'te14-0100', 'te14-0104', 'te14-0108', 'te14-0115', 'te14-0123',\n       'te14-0124', 'te14-0146', 'te14-0159', 'te14-0168', 'te14-0176',\n       'te14-0177', 'te14-0194', 'te14-0199', 'te14-0211', 'te14-0221',\n       'te14-0225', 'te14-0226', 'te14-0230', 'te14-0241', 'te14-0245',\n       'te14-0257', 'te14-0264', 'te14-0271', 'te14-0286'], dtype='<U9')"
     },
     "execution_count": 172,
     "metadata": {},
     "output_type": "execute_result"
    }
   ],
   "source": [],
   "metadata": {
    "collapsed": false,
    "ExecuteTime": {
     "end_time": "2023-07-09T13:12:49.356306Z",
     "start_time": "2023-07-09T13:12:49.246846Z"
    }
   }
  },
  {
   "cell_type": "code",
   "execution_count": null,
   "outputs": [],
   "source": [],
   "metadata": {
    "collapsed": false
   }
  }
 ],
 "metadata": {
  "kernelspec": {
   "name": "pytorch",
   "language": "python",
   "display_name": "torch"
  },
  "language_info": {
   "codemirror_mode": {
    "name": "ipython",
    "version": 2
   },
   "file_extension": ".py",
   "mimetype": "text/x-python",
   "name": "python",
   "nbconvert_exporter": "python",
   "pygments_lexer": "ipython2",
   "version": "2.7.6"
  }
 },
 "nbformat": 4,
 "nbformat_minor": 0
}
